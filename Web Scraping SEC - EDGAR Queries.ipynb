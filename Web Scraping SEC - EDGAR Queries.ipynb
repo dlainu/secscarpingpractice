{
 "cells": [
  {
   "cell_type": "markdown",
   "metadata": {},
   "source": [
    "## Web Scraping the SEC Query Page"
   ]
  },
  {
   "cell_type": "markdown",
   "metadata": {},
   "source": [
    "We've seen in other tutorials how to web scrape the EDGAR archives, but in this tutorial, we will explore a different part of the EDGAR database. The company search page allows us to make a specific query for a single company and their filings, and this page will then return all the documents related to that company. From here, we can filter all of their documents to the ones that meet our criteria.\n",
    "\n",
    "This includes being able to filter by a specific date or even a particular type of form. Once, we've filtered the results we can go directly to the document or if we want we can go to the filing folder containing that document. One thing to keep in mind is the scope of your search. If you search for a company name, you can get back more than one company back.\n",
    "\n",
    "This usually doesn't present a problem, but it does mean you may have to look through multiple companies to find the documents you want. It might make more sense to search by the CIK number, to get to the company you want.\n",
    "\n",
    "Link to the company search page: https://www.sec.gov/edgar/searchedgar/companysearch.html"
   ]
  },
  {
   "cell_type": "code",
   "execution_count": 1,
   "metadata": {},
   "outputs": [],
   "source": [
    "# import our libraries\n",
    "import requests\n",
    "import pandas as pd\n",
    "from bs4 import BeautifulSoup"
   ]
  },
  {
   "cell_type": "markdown",
   "metadata": {},
   "source": [
    "### Section One: Define the Parameters of the Search\n",
    "To create a search we need to \"build\" a URL that takes us to a valid results query, this requires taking our base endpoint and attaching on different parameters to help narrow down our search. I'll do my best to explain how each of these parameters works, but unfortunately, there is no formal documentation on this.\n",
    "\n",
    "Endpoint The endpoint for our EDGAR query is https://www.sec.gov/cgi-bin/browse-edgar if you go to this link without any additional parameters it will be an invalid request.\n",
    "\n",
    "#### Parameters\n",
    "\n",
    "- action: (required) By default should be set to getcompany.\n",
    "- CIK: (required) Is the CIK number of the company you are searching.\n",
    "- type: (optional) Allows filtering the type of form. For example, if set to 10-k only the 10-K filings are returned.\n",
    "- dateb: (optional) Will only return the filings before a given date. The format is as follows YYYYMMDD\n",
    "- owner: (required) Is set to exclude by default and specifies ownership. You may also set it to include and only.\n",
    "- start: (optional) Is the starting index of the results. For example, if I have 100 results but want to start at 45 of 100, I would pass 45.\n",
    "- state: (optional) The company's state.\n",
    "- filenum: (optional) The filing number.\n",
    "- sic: (optional) The company's SIC (Standard Industry Classification) identifier\n",
    "- output: (optional) Defines returned data structure as either xml (atom) or normal html.\n",
    "- count: (optional) The number of results you want to see with your request, the max is 100 and if not set it will default to 40.\n",
    "\n",
    "Now that we understand all the parameters let's make a request by defining our endpoint, and then a dictionary of our parameters. Where the key of the dictionary is the parameter name, and the value is the value we want to set for that parameter. Once we've defined these two components we can make our request and parse the response using BeautifulSoup."
   ]
  },
  {
   "cell_type": "code",
   "execution_count": null,
   "metadata": {},
   "outputs": [],
   "source": [
    "# base URL for the SEC EDGAR browser\n",
    "endpoint = r\"https://www.sec.gov/cgi-bin/browse-edgar\"\n",
    "\n",
    "# define our parameters dictionary\n",
    "param_dict = {'action':'getcompany',\n",
    "              'CIK':'1265107',\n",
    "              'type':'10-k',\n",
    "              'dateb':'20190101',\n",
    "              'owner':'exclude',\n",
    "              'start':'',\n",
    "              'output':'',\n",
    "              'count':'100'}\n",
    "\n",
    "# request the url, and then parse the response.\n",
    "response = requests.get(url = endpoint, params = param_dict)\n",
    "soup = BeautifulSoup(response.content, 'html.parser')\n",
    "\n",
    "# Let the user know it was successful.\n",
    "print('Request Successful')\n",
    "print(response.url)"
   ]
  },
  {
   "cell_type": "markdown",
   "metadata": {},
   "source": [
    "### Side Note: Doing a Company Name Search\n",
    "In the search defined up above, I assumed we wanted to search by a CIK number. If this is not the case, we will do a different search, a company search. A company search is a more broad search but is simpler because it requires fewer parameters. The only new parameter we have to pass through is the company parameter which has the company name as it's value."
   ]
  },
  {
   "cell_type": "code",
   "execution_count": null,
   "metadata": {},
   "outputs": [],
   "source": [
    "# base URL for the SEC EDGAR browser\n",
    "endpoint = r\"https://www.sec.gov/cgi-bin/browse-edgar\"\n",
    "\n",
    "# define our parameters dictionary\n",
    "param_dict = {'action':'getcompany',\n",
    "              'owner':'exclude',\n",
    "              'company':'Goldman Sachs'}\n",
    "\n",
    "# request the url, and then parse the response.\n",
    "response = requests.get(url = endpoint, params = param_dict)\n",
    "soup = BeautifulSoup(response.content, 'html.parser')\n",
    "\n",
    "# Let the user know it was successful.\n",
    "print('Request Successful')\n",
    "print(response.url)"
   ]
  },
  {
   "cell_type": "markdown",
   "metadata": {},
   "source": [
    "### Section Two: Parse the Response for the Document Details\n",
    "Once we have our response code, we need to parse it. Our first goal is to find the table object that has a class attribute of tableFile2 as this table contains the data related to the documents and the links. Once we grabbed the table, we will iterate through each row in the table parsing the columns. Unfortunately, things can get a little tricky as some documents can contain interactive data and others don't this means that if parse them for links it will return an error because no link exists.\n",
    "\n",
    "To fix this, I wrap each link in an if statement that will only parse the href if one exists. The main links I'm looking for are the links to the document itself, the interactive data, and a link to filing folder containing that document. Keep in mind when I say filing folder what I mean is another EDGAR query but with an additional parameter called filenum which contains the filing number. Once, we parsed the necessary info, we store it in a dictionary and then store that dictionary in the master_list, this way we have a list of all the file names."
   ]
  },
  {
   "cell_type": "code",
   "execution_count": null,
   "metadata": {},
   "outputs": [],
   "source": [
    "# find the document table with our data\n",
    "doc_table = soup.find_all('table', class_='tableFile2')\n",
    "\n",
    "# define a base url that will be used for link building.\n",
    "base_url_sec = r\"https://www.sec.gov\"\n",
    "\n",
    "master_list = []\n",
    "\n",
    "# loop through each row in the table.\n",
    "for row in doc_table[0].find_all('tr')[0:3]:\n",
    "    \n",
    "    # find all the columns\n",
    "    cols = row.find_all('td')\n",
    "    \n",
    "    # if there are no columns move on to the next row.\n",
    "    if len(cols) != 0:        \n",
    "        \n",
    "        # grab the text\n",
    "        filing_type = cols[0].text.strip()                 \n",
    "        filing_date = cols[3].text.strip()\n",
    "        filing_numb = cols[4].text.strip()\n",
    "        \n",
    "        # find the links\n",
    "        filing_doc_href = cols[1].find('a', {'href':True, 'id':'documentsbutton'})       \n",
    "        filing_int_href = cols[1].find('a', {'href':True, 'id':'interactiveDataBtn'})\n",
    "        filing_num_href = cols[4].find('a')\n",
    "        \n",
    "        # grab the the first href\n",
    "        if filing_doc_href != None:\n",
    "            filing_doc_link = base_url_sec + filing_doc_href['href'] \n",
    "        else:\n",
    "            filing_doc_link = 'no link'\n",
    "        \n",
    "        # grab the second href\n",
    "        if filing_int_href != None:\n",
    "            filing_int_link = base_url_sec + filing_int_href['href'] \n",
    "        else:\n",
    "            filing_int_link = 'no link'\n",
    "        \n",
    "        # grab the third href\n",
    "        if filing_num_href != None:\n",
    "            filing_num_link = base_url_sec + filing_num_href['href'] \n",
    "        else:\n",
    "            filing_num_link = 'no link'\n",
    "        \n",
    "        # create and store data in the dictionary\n",
    "        file_dict = {}\n",
    "        file_dict['file_type'] = filing_type\n",
    "        file_dict['file_number'] = filing_numb\n",
    "        file_dict['file_date'] = filing_date\n",
    "        file_dict['links'] = {}\n",
    "        file_dict['links']['documents'] = filing_doc_link\n",
    "        file_dict['links']['interactive_data'] = filing_int_link\n",
    "        file_dict['links']['filing_number'] = filing_num_link\n",
    "    \n",
    "        # let the user know it's working\n",
    "        print('-'*100)        \n",
    "        print(\"Filing Type: \" + filing_type)\n",
    "        print(\"Filing Date: \" + filing_date)\n",
    "        print(\"Filing Number: \" + filing_numb)\n",
    "        print(\"Document Link: \" + filing_doc_link)\n",
    "        print(\"Filing Number Link: \" + filing_num_link)\n",
    "        print(\"Interactive Data Link: \" + filing_int_link)\n",
    "        \n",
    "        # append dictionary to master list\n",
    "        master_list.append(file_dict)"
   ]
  },
  {
   "cell_type": "markdown",
   "metadata": {},
   "source": [
    "### Section Three: Parsing the Master List¶\n",
    "We the master_list now populated we can iterate through the dictionary in the list and grab the values we want from each dictionary by passing the keys corresponding to that value. In the example below, I want all the links from a given dictionary, so I parse the links dictionary."
   ]
  },
  {
   "cell_type": "code",
   "execution_count": null,
   "metadata": {},
   "outputs": [],
   "source": [
    "# loop through to get the links from the dictionary\n",
    "for report in master_list[0:2]:\n",
    "    \n",
    "    print('-'*100)\n",
    "    print(report['links']['documents'])\n",
    "    print(report['links']['filing_number'])\n",
    "    print(report['links']['interactive_data'])"
   ]
  },
  {
   "cell_type": "markdown",
   "metadata": {},
   "source": [
    "### Section Four: Parsing the XML version\n",
    "We saw up above that if we set the output parameter to atom, that we get back an XML version of the same data, so let's explore how to request and parse the XML output. When we are defining the output parameter, we are accessing the RSS Feed that is linked with EDGAR. While the above example does work relatively easily, it probably makes more sense to use the RSS Feed as the data returned to us is more structured and therefore easier to parse.\n",
    "\n",
    "The request will be identical except for the fact that we will change the output parameter to atom and change the parser to lxml."
   ]
  },
  {
   "cell_type": "code",
   "execution_count": null,
   "metadata": {},
   "outputs": [],
   "source": [
    "# base URL for the SEC EDGAR browser\n",
    "endpoint = r\"https://www.sec.gov/cgi-bin/browse-edgar\"\n",
    "\n",
    "# define our parameters dictionary\n",
    "param_dict = {'action':'getcompany',\n",
    "              'CIK':'1265107',\n",
    "              'type':'10-k',\n",
    "              'dateb':'20190101',\n",
    "              'owner':'exclude',\n",
    "              'start':'',\n",
    "              'output':'atom',\n",
    "              'count':'100'}\n",
    "\n",
    "# request the url, and then parse the response.\n",
    "response = requests.get(url = endpoint, params = param_dict)\n",
    "soup = BeautifulSoup(response.content, 'lxml')\n",
    "\n",
    "# Let the user know it was successful.\n",
    "print('Request Successful')\n",
    "print(response.url)"
   ]
  }
 ],
 "metadata": {
  "kernelspec": {
   "display_name": "Python 3",
   "language": "python",
   "name": "python3"
  },
  "language_info": {
   "codemirror_mode": {
    "name": "ipython",
    "version": 3
   },
   "file_extension": ".py",
   "mimetype": "text/x-python",
   "name": "python",
   "nbconvert_exporter": "python",
   "pygments_lexer": "ipython3",
   "version": "3.7.3"
  }
 },
 "nbformat": 4,
 "nbformat_minor": 2
}
